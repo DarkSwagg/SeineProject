{
 "cells": [
  {
   "cell_type": "code",
   "execution_count": null,
   "metadata": {},
   "outputs": [],
   "source": [
    "# Import all functions from the following scripts\n",
    "\n",
    "from Id_Upstream import id_upstream\n",
    "from Landscape_Population_Subc import landscape_population_subc\n",
    "from Group_Attribs import group_attribs\n",
    "\n",
    "# Import all libraries needed for the following scripts\n",
    "\n",
    "import pandas as pd\n",
    "import numpy as np\n",
    "import os"
   ]
  },
  {
   "cell_type": "code",
   "execution_count": null,
   "metadata": {},
   "outputs": [],
   "source": [
    "# Obtain the path of the current working directory using the os library\n",
    "path = os.getcwd()\n",
    "print(path)\n",
    "\n",
    "# Import the data from the csv files and store them in a variable\n",
    "df_landscape = pd.read_csv('Landscape_Subc_Table.csv')\n",
    "df_population = pd.read_csv('population_subc_table.csv')\n",
    "df_subcatchments = pd.read_csv('subcatchment_table.csv')"
   ]
  },
  {
   "cell_type": "code",
   "execution_count": null,
   "metadata": {},
   "outputs": [],
   "source": []
  }
 ],
 "metadata": {
  "language_info": {
   "name": "python"
  }
 },
 "nbformat": 4,
 "nbformat_minor": 2
}
