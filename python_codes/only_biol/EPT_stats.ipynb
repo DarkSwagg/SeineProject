{
 "cells": [
  {
   "attachments": {},
   "cell_type": "markdown",
   "metadata": {},
   "source": [
    "# EPT triangle analysis"
   ]
  },
  {
   "cell_type": "code",
   "execution_count": null,
   "metadata": {},
   "outputs": [],
   "source": [
    "import pandas as pd\n",
    "import numpy as np\n",
    "import matplotlib.pyplot as plt\n",
    "import matplotlib as mpl\n",
    "import mpltern\n",
    "import os"
   ]
  },
  {
   "attachments": {},
   "cell_type": "markdown",
   "metadata": {},
   "source": [
    "file comes from filtering stations (last step)"
   ]
  },
  {
   "cell_type": "code",
   "execution_count": null,
   "metadata": {},
   "outputs": [],
   "source": [
    "# Get the current directory of the notebook\n",
    "current_dir = os.getcwd()\n",
    "parent_dir = os.path.abspath(os.path.join(current_dir, os.pardir, os.pardir))\n",
    "# Import phychem data\n",
    "EPT_file = os.path.join(parent_dir, \"biol_data\", \"taxons\", \"taxons_freqEPT.csv\")\n",
    "EPT_df = pd.read_csv(EPT_file, delimiter=\";\")"
   ]
  },
  {
   "cell_type": "code",
   "execution_count": null,
   "metadata": {},
   "outputs": [],
   "source": [
    "# drop duplicates because different codes measured for same ept type\n",
    "EPT_df = EPT_df.drop_duplicates(subset=[\"code_station_hydrobio\", \"date_prelevement\", \"type_EPT\"])\n",
    "EPT_df[\"date_prelevement\"] = pd.to_datetime(EPT_df[\"date_prelevement\"])"
   ]
  },
  {
   "cell_type": "code",
   "execution_count": null,
   "metadata": {},
   "outputs": [],
   "source": [
    "def EPT_meas(start_date, end_date, df):\n",
    "    # extract decade per decade\n",
    "    EPT_meas_df = df.loc[(df['date_prelevement'].dt.year >= start_date) & (df['date_prelevement'].dt.year <= end_date)]\n",
    "\n",
    "    EPT_meas_df = EPT_meas_df.groupby(['code_station_hydrobio','ORD_STRA']).agg({\n",
    "        'type_EPT': list,\n",
    "    }).reset_index()\n",
    "\n",
    "    EPT_meas_df['E'] = EPT_meas_df['type_EPT'].apply(lambda x: x.count('E'))\n",
    "    EPT_meas_df['P'] = EPT_meas_df['type_EPT'].apply(lambda x: x.count('P'))\n",
    "    EPT_meas_df['T'] = EPT_meas_df['type_EPT'].apply(lambda x: x.count('T'))\n",
    "\n",
    "    print(f\"Number of measured taxons related to E, P and T\\nfor all stations, {start_date}-{end_date}\\n\")\n",
    "    print(f'Stations that measured E: {(EPT_meas_df[\"E\"] != 0).sum()} / {EPT_meas_df.shape[0]}\\nStations that measured P: {(EPT_meas_df[\"P\"] != 0).sum()} / {EPT_meas_df.shape[0]}\\nStations that measured T: {(EPT_meas_df[\"T\"] != 0).sum()} / {EPT_meas_df.shape[0]}\\n')\n",
    "\n",
    "    print(EPT_meas_df[[\"code_station_hydrobio\",\"ORD_STRA\", \"E\", \"P\", \"T\"]])\n",
    "\n",
    "    return EPT_meas_df"
   ]
  },
  {
   "cell_type": "code",
   "execution_count": null,
   "metadata": {},
   "outputs": [],
   "source": [
    "def EPT_frac(df):\n",
    "\n",
    "    df['E_%'] = (df['E'] / (df['E'] + df['P'] + df['T'])) * 100\n",
    "    df['P_%'] = (df['P'] / (df['E'] + df['P'] + df['T'])) * 100\n",
    "    df['T_%'] = (df['T'] / (df['E'] + df['P'] + df['T'])) * 100\n",
    "\n",
    "    return df"
   ]
  },
  {
   "cell_type": "code",
   "execution_count": null,
   "metadata": {},
   "outputs": [],
   "source": [
    "start_year = 2010\n",
    "end_year = 2020"
   ]
  },
  {
   "cell_type": "code",
   "execution_count": null,
   "metadata": {},
   "outputs": [],
   "source": [
    "EPT_meas_df = EPT_meas(start_date=start_year, end_date=end_year, df=EPT_df)"
   ]
  },
  {
   "cell_type": "code",
   "execution_count": null,
   "metadata": {},
   "outputs": [],
   "source": [
    "EPT_meas_df = EPT_frac(df=EPT_meas_df)\n",
    "df = EPT_meas_df[[\"code_station_hydrobio\",\"ORD_STRA\", \"E_%\", \"P_%\", \"T_%\"]]"
   ]
  },
  {
   "cell_type": "code",
   "execution_count": null,
   "metadata": {},
   "outputs": [],
   "source": [
    "df[\"E_%\"] = df[\"E_%\"].apply(lambda x: float(x))\n",
    "df[\"P_%\"] = df[\"P_%\"].apply(lambda x: float(x))\n",
    "df[\"T_%\"] = df[\"T_%\"].apply(lambda x: float(x))"
   ]
  },
  {
   "attachments": {},
   "cell_type": "markdown",
   "metadata": {},
   "source": [
    "## Ternary plot"
   ]
  },
  {
   "cell_type": "code",
   "execution_count": null,
   "metadata": {},
   "outputs": [],
   "source": [
    "# Create ternary coordinates\n",
    "t, l, r = df['E_%'], df['P_%'], df['T_%']\n",
    "\n",
    "# Map ORD_STRA numbers to colors\n",
    "color_map = {1: 'blue', 2: 'green', 3: 'red', 4: 'purple', 5: 'orange', 6: 'yellow'}\n",
    "colors = df['ORD_STRA'].map(color_map)\n",
    "\n",
    "# Create ternary plot\n",
    "fig, ax = plt.subplots(figsize=(8, 6), subplot_kw={'projection': 'ternary'})\n",
    "\n",
    "# Plot the stations with colors based on ORD_STRA\n",
    "pc = ax.scatter(t, l, r, c=colors)\n",
    "\n",
    "\n",
    "# Create a legend with colored dots and ORD_STRA numbers\n",
    "handles = [plt.Line2D([0], [0], marker='o', color='w', markerfacecolor=color, markersize=10) for color in color_map.values()]\n",
    "labels = [str(ord_stra) for ord_stra in color_map.keys()]\n",
    "plt.legend(handles, labels, title='ORD_STRA', loc='center left', bbox_to_anchor=(1, 0.5))\n",
    "\n",
    "\n",
    "# Calculate midpoint coordinates of each triangle side\n",
    "\n",
    "ax.text(0.5, -0.085, \"T [%]\", ha='center', va='center', fontsize=12, fontweight='bold', transform=ax.transAxes)\n",
    "ax.text(0.12, 0.5, \"P [%]\", ha='center', va='center', fontsize=12, fontweight='bold', transform=ax.transAxes, rotation=60)\n",
    "ax.text(0.87, 0.5, \"E [%]\", ha='center', va='center', fontsize=12, fontweight='bold', transform=ax.transAxes, rotation=-60)\n",
    "\n",
    "\n",
    "\n",
    "ax.set_title(\"E, P, and T [%] for each MFS\\n\", fontsize=15)\n",
    "\n",
    "plt.show()"
   ]
  },
  {
   "attachments": {},
   "cell_type": "markdown",
   "metadata": {},
   "source": [
    "# Plot per HS number"
   ]
  },
  {
   "cell_type": "code",
   "execution_count": null,
   "metadata": {},
   "outputs": [],
   "source": [
    "# Group by 'ORD_STRA' and sum the 'E', 'P', and 'T' columns\n",
    "grouped_df = EPT_meas_df.groupby('ORD_STRA').sum()\n",
    "grouped_df.set_index(pd.Index(range(1, len(grouped_df) + 1)), inplace=True)\n",
    "grouped_df = grouped_df[[\"E\", \"P\", \"T\"]]\n",
    "grouped_df\n"
   ]
  },
  {
   "cell_type": "code",
   "execution_count": null,
   "metadata": {},
   "outputs": [],
   "source": [
    "grouped_df.plot(kind='bar')\n",
    "plt.xlabel('Strahler Order')\n",
    "plt.ylabel('Measurement counts')\n",
    "plt.xticks(rotation=360)\n",
    "plt.title(f'Taxons distribution MFS for Strahler Order, {start_year}-{end_year}')\n",
    "plt.legend(title='Taxons')\n",
    "plt.show()"
   ]
  },
  {
   "cell_type": "code",
   "execution_count": null,
   "metadata": {},
   "outputs": [],
   "source": [
    "# same plot but normalized over sum taxons for each strahler number\n",
    "\n",
    "# Calculate the sum of each col\n",
    "row_sums = grouped_df.sum(axis=1)\n",
    "\n",
    "# Divide each element by the sum of the corresponding row\n",
    "normalized_df = grouped_df.div(row_sums, axis=0)\n",
    "\n",
    "# Plot the normalized DataFrame\n",
    "normalized_df.plot(kind='bar')\n",
    "\n",
    "plt.xlabel('Strahler Order')\n",
    "plt.ylabel('Normalized Measurement Counts')  # Updated ylabel\n",
    "plt.xticks(rotation=360)\n",
    "plt.title(f'Normalized over Strahler Order - taxons distribution for Strahler Order, {start_year}-{end_year}')\n",
    "plt.legend(title='Taxons')\n",
    "plt.show()"
   ]
  },
  {
   "cell_type": "code",
   "execution_count": null,
   "metadata": {},
   "outputs": [],
   "source": [
    "# same plot but normalized over all taxons\n",
    "# Calculate the sum of each column (some of E, of P, of T)\n",
    "row_sums = grouped_df.sum(axis=0)\n",
    "\n",
    "# Divide each element by the sum of the corresponding row\n",
    "normalized_df = grouped_df.div(row_sums)\n",
    "\n",
    "# Plot the normalized DataFrame\n",
    "normalized_df.plot(kind='bar')\n",
    "\n",
    "plt.xlabel('Strahler Order')\n",
    "plt.ylabel('Normalized Measurement Counts')  # Updated ylabel\n",
    "plt.xticks(rotation=360)\n",
    "plt.title(f'Normalized over category taxons - taxons distribution for Strahler Order, {start_year}-{end_year}')\n",
    "plt.legend(title='Taxons')\n",
    "plt.show()"
   ]
  }
 ],
 "metadata": {
  "kernelspec": {
   "display_name": "SeineProject",
   "language": "python",
   "name": "python3"
  },
  "language_info": {
   "codemirror_mode": {
    "name": "ipython",
    "version": 3
   },
   "file_extension": ".py",
   "mimetype": "text/x-python",
   "name": "python",
   "nbconvert_exporter": "python",
   "pygments_lexer": "ipython3",
   "version": "3.12.2"
  },
  "orig_nbformat": 4
 },
 "nbformat": 4,
 "nbformat_minor": 2
}
