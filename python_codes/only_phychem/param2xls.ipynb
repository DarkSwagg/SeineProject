{
 "cells": [
  {
   "attachments": {},
   "cell_type": "markdown",
   "metadata": {},
   "source": [
    "# Store parameters value for each station in an xlsx file\n"
   ]
  },
  {
   "cell_type": "code",
   "execution_count": null,
   "metadata": {},
   "outputs": [],
   "source": [
    "import pandas as pd\n",
    "import numpy as np\n",
    "import matplotlib.pyplot as plt\n",
    "from googletrans import Translator\n",
    "from tqdm.auto import tqdm\n",
    "\n",
    "translator = Translator()"
   ]
  },
  {
   "cell_type": "code",
   "execution_count": null,
   "metadata": {},
   "outputs": [],
   "source": [
    "# Get the current directory of the notebook\n",
    "\n",
    "import os\n",
    "\n",
    "current_dir = os.getcwd()\n",
    "parent_dir = os.path.abspath(os.path.join(current_dir, os.pardir, os.pardir))\n",
    "path_files = os.path.join(parent_dir, \"phychem_data\", \"phychem_param_80_19\", \"all_param\")\n",
    "file_names = os.listdir(path_files)\n",
    "print(file_names)"
   ]
  },
  {
   "cell_type": "code",
   "execution_count": null,
   "metadata": {},
   "outputs": [],
   "source": [
    "# remove all!!!!\n",
    "for i, file in enumerate(file_names):\n",
    "    csv = file.split(\".\")[1]\n",
    "    if csv != \"csv\":\n",
    "        file_names.pop(i)\n",
    "file_names"
   ]
  },
  {
   "cell_type": "code",
   "execution_count": null,
   "metadata": {},
   "outputs": [],
   "source": [
    "# fill with othere files\n",
    "french_name_param = []\n",
    "code_param = []\n",
    "list_df_files = []\n",
    "\n",
    "for i, file_name in enumerate(file_names):\n",
    "\n",
    "    df = pd.read_csv(os.path.join(\"phychem_param_80_19\",\"all_param\",file_name),  delimiter=\";\") # correctly chose del\n",
    "    df[\"date_prelevement\"] = pd.to_datetime(df[\"date_prelevement\"])\n",
    "    df = df.sort_values(\"date_prelevement\")\n",
    "\n",
    "    french_name_param += df[\"libelle_parametre\"].unique().tolist()\n",
    "    code_param += df[\"code_parametre\"].unique().tolist()\n",
    "\n",
    "    list_df_files.append(df)\n",
    "    print(\"df exported\")"
   ]
  },
  {
   "cell_type": "code",
   "execution_count": null,
   "metadata": {},
   "outputs": [],
   "source": [
    "toEnglish = {french_name: translator.translate(french_name, src='fr', dest='en').text for french_name in french_name_param}\n",
    "toEnglish['Orthophosphates (PO4)']= 'Orthophosphates (PO4)'\n",
    "toEnglish"
   ]
  },
  {
   "cell_type": "code",
   "execution_count": null,
   "metadata": {},
   "outputs": [],
   "source": [
    "name_param = list(toEnglish.values())\n",
    "name_param"
   ]
  },
  {
   "cell_type": "code",
   "execution_count": null,
   "metadata": {},
   "outputs": [],
   "source": [
    "df_files = pd.concat(list_df_files).reset_index(drop=True)"
   ]
  },
  {
   "cell_type": "code",
   "execution_count": null,
   "metadata": {},
   "outputs": [],
   "source": [
    "date_limite_start = pd.Timestamp('1980-03-01')\n",
    "date_limite_end = pd.Timestamp('2019-11-30')\n",
    "\n",
    "df_files = df_files.loc[df_files['date_prelevement'] >= date_limite_start] # only consider from march bc start of hydrological year in france\n",
    "df_files = df_files.loc[df_files['date_prelevement'] <= date_limite_end].reset_index(drop=True)\n",
    "df_files.shape\n"
   ]
  },
  {
   "cell_type": "code",
   "execution_count": null,
   "metadata": {},
   "outputs": [],
   "source": [
    "df_files_grouped = df_files.groupby(\"code_station\").agg({\n",
    "    \"date_prelevement\" : list,\n",
    "    \"code_parametre\" : list,\n",
    "    \"libelle_parametre\" : list,\n",
    "    \"resultat\" : list\n",
    "}).reset_index()\n",
    "df_files_grouped.head()"
   ]
  },
  {
   "cell_type": "code",
   "execution_count": null,
   "metadata": {},
   "outputs": [],
   "source": [
    "def df_architecture(name_param=name_param):\n",
    "\n",
    "    column_names = [\"Year\", \"Season\"]\n",
    "    column_names += name_param\n",
    "    df = pd.DataFrame(columns=column_names)\n",
    "\n",
    "    list_years = [[i, i, i, i] for i in range(1981,2020)]\n",
    "    years = [year for sublist in list_years for year in sublist]\n",
    "    for i in range(3):\n",
    "        years.insert(0, 1980)\n",
    "    df[\"Year\"] = years\n",
    "\n",
    "    list_seasons = [[\"SP\", \"SM\", \"FL\", \"WT\"] for i in range(40)]\n",
    "    seasons = [year for sublist in list_seasons for year in sublist]\n",
    "    del seasons[-1]\n",
    "    df[\"Season\"] = seasons\n",
    "\n",
    "    null_values = [[] for i in range(len(seasons))]\n",
    "    for col in df.columns[2::]:\n",
    "        df[col] = null_values\n",
    "\n",
    "    return df\n",
    "\n",
    "    "
   ]
  },
  {
   "cell_type": "code",
   "execution_count": null,
   "metadata": {},
   "outputs": [],
   "source": [
    "season_dict = {\n",
    "    1 : \"WT\",\n",
    "    2 : \"WT\",\n",
    "    3 : \"SP\",\n",
    "    4 : \"SP\",\n",
    "    5 : \"SP\",\n",
    "    6 : \"SM\",\n",
    "    7 : \"SM\",\n",
    "    8 : \"SM\",\n",
    "    9 : \"FL\",\n",
    "    10 : \"FL\",\n",
    "    11 : \"FL\",\n",
    "    12 : \"WT\"\n",
    "}"
   ]
  },
  {
   "cell_type": "code",
   "execution_count": null,
   "metadata": {},
   "outputs": [],
   "source": [
    "def fill_param(station_id, df_archi, df_files):\n",
    "    \n",
    "    serie_station = df_files.loc[df_files[\"code_station\"]==station_id]\n",
    "    for date, parameter, value in zip(serie_station[\"date_prelevement\"].values[0], serie_station[\"libelle_parametre\"].values[0], serie_station.resultat.values[0]):\n",
    "        year = date.year\n",
    "        month =  date.month\n",
    "        season = season_dict[month]\n",
    "        # print(year, month, season)\n",
    "\n",
    "        if month == 12 : year = year+1 # considering december for next year\n",
    "        else: year=year\n",
    "\n",
    "        index = df_archi.loc[(df_archi[\"Year\"]==year) & (df_archi[\"Season\"]==season)].index[0]\n",
    "        df_archi.at[index, toEnglish[parameter]] = df_archi.at[index, toEnglish[parameter]] + [value]\n",
    "        \n",
    "\n",
    "    for col in df_archi.columns:\n",
    "        df_archi[col] = df_archi[col].apply(lambda x: [-1] if isinstance(x, list) and len(x) == 0 else x)\n",
    "\n",
    "    for col in df_archi.columns:\n",
    "        df_archi[col] = df_archi[col].apply(lambda x: np.median(np.array(x)) if isinstance(x, list) else x)\n",
    "\n",
    "    return df_archi\n"
   ]
  },
  {
   "cell_type": "code",
   "execution_count": null,
   "metadata": {},
   "outputs": [],
   "source": [
    "def export_xlsx(station_id, df):\n",
    "    file_name = f\"station_{station_id}.xlsx\"\n",
    "    file_path = os.path.join(\"phychem_param_80_19\", \"param_station_xlsx\", file_name)\n",
    "    df.to_excel(file_path, sheet_name=\"seasonally\", index=False)"
   ]
  },
  {
   "cell_type": "code",
   "execution_count": null,
   "metadata": {},
   "outputs": [],
   "source": [
    "len(df_files_grouped[\"code_station\"])"
   ]
  },
  {
   "cell_type": "code",
   "execution_count": null,
   "metadata": {},
   "outputs": [],
   "source": [
    "for station_id in tqdm(df_files_grouped[\"code_station\"][1646:]):\n",
    "    \n",
    "    df_archi = df_architecture(name_param=name_param)\n",
    "    df = fill_param(station_id, df_archi=df_archi, df_files=df_files_grouped)\n",
    "    export_xlsx(station_id=station_id, df=df)"
   ]
  }
 ],
 "metadata": {
  "kernelspec": {
   "display_name": "SeineProject",
   "language": "python",
   "name": "python3"
  },
  "language_info": {
   "codemirror_mode": {
    "name": "ipython",
    "version": 3
   },
   "file_extension": ".py",
   "mimetype": "text/x-python",
   "name": "python",
   "nbconvert_exporter": "python",
   "pygments_lexer": "ipython3",
   "version": "3.12.2"
  },
  "orig_nbformat": 4
 },
 "nbformat": 4,
 "nbformat_minor": 2
}
