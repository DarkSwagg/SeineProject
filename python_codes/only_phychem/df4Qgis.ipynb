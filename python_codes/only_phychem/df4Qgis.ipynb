{
 "cells": [
  {
   "attachments": {},
   "cell_type": "markdown",
   "metadata": {},
   "source": [
    "# To visualize on Qgis"
   ]
  },
  {
   "cell_type": "code",
   "execution_count": null,
   "metadata": {},
   "outputs": [],
   "source": [
    "import pandas as pd\n",
    "import numpy as np\n",
    "import os"
   ]
  },
  {
   "cell_type": "code",
   "execution_count": 1,
   "metadata": {},
   "outputs": [
    {
     "name": "stdout",
     "output_type": "stream",
     "text": [
      "/Users/mahlia/Desktop/SeineProject/python_codes/common\n"
     ]
    }
   ],
   "source": [
    "# importing necessary functions from other files\n",
    "\n",
    "import os\n",
    "import sys\n",
    "\n",
    "# to facilitate the use of notebooks\n",
    "%load_ext autoreload\n",
    "%autoreload 2\n",
    "\n",
    "# Get the current directory of the notebook\n",
    "current_dir = os.getcwd()\n",
    "parent_dir = os.path.abspath(os.path.join(current_dir, os.pardir))\n",
    "functions_dir = os.path.join(parent_dir, \"common\")\n",
    "print(functions_dir)\n",
    "\n",
    "# Add this directory to sys.path\n",
    "if functions_dir not in sys.path:\n",
    "    sys.path.append(functions_dir)\n",
    "\n",
    "from merge_metadata import add_HS, add_coord"
   ]
  },
  {
   "cell_type": "code",
   "execution_count": null,
   "metadata": {},
   "outputs": [],
   "source": [
    "%load_ext autoreload\n",
    "%autoreload 2\n",
    "import sys\n",
    "sys.path.append(\"/Users/mahlia/Desktop/SeineProject/python_functions\")\n",
    "from merge_metadata import add_HS, add_coord"
   ]
  },
  {
   "cell_type": "code",
   "execution_count": null,
   "metadata": {},
   "outputs": [],
   "source": [
    "file_names = os.listdir(os.path.join(os.getcwd(),\"phychem_param_80_19\", \"all_param\"))\n",
    "\n",
    "for i, file in enumerate(file_names):\n",
    "    csv = file.split(\".\")[1]\n",
    "    if csv != \"csv\":\n",
    "        file_names.pop(i)\n",
    "file_names"
   ]
  },
  {
   "cell_type": "code",
   "execution_count": null,
   "metadata": {},
   "outputs": [],
   "source": [
    "# fill with othere files\n",
    "french_name_param = []\n",
    "code_param = []\n",
    "list_df_files = []\n",
    "\n",
    "for i, file_name in enumerate(file_names):\n",
    "    print(file_name)\n",
    "    df = pd.read_csv(os.path.join(\"phychem_param_80_19\",\"all_param\",file_name),  delimiter=\";\") # correctly chose del\n",
    "    df[\"date_prelevement\"] = pd.to_datetime(df[\"date_prelevement\"])\n",
    "    df = df.sort_values(\"date_prelevement\")\n",
    "\n",
    "    french_name_param += df[\"libelle_parametre\"].unique().tolist()\n",
    "    print(df[\"libelle_parametre\"].unique().tolist())\n",
    "    code_param += df[\"code_parametre\"].unique().tolist()\n",
    "\n",
    "    list_df_files.append(df)\n",
    "    print(\"df exported\")"
   ]
  },
  {
   "cell_type": "code",
   "execution_count": null,
   "metadata": {},
   "outputs": [],
   "source": [
    "df_files = pd.concat(list_df_files).reset_index(drop=True)\n",
    "\n",
    "date_limite = pd.Timestamp('1980-03-01')\n",
    "df_files = df_files.loc[df_files['date_prelevement'] >= date_limite].reset_index(drop=True) # only consider from sept bc start of hydrological year in france"
   ]
  },
  {
   "cell_type": "code",
   "execution_count": null,
   "metadata": {},
   "outputs": [],
   "source": [
    "# chose this\n",
    "\n",
    "year = 1998\n",
    "season = \"SP\"\n",
    "param = \"Ammonium\"\n",
    "\n",
    "season_dict = {\n",
    "    1 : \"WT\",\n",
    "    2 : \"WT\",\n",
    "    3 : \"SP\",\n",
    "    4 : \"SP\",\n",
    "    5 : \"SP\",\n",
    "    6 : \"SM\",\n",
    "    7 : \"SM\",\n",
    "    8 : \"SM\",\n",
    "    9 : \"FL\",\n",
    "    10 : \"FL\",\n",
    "    11 : \"FL\",\n",
    "    12 : \"WT\"\n",
    "}"
   ]
  },
  {
   "cell_type": "code",
   "execution_count": null,
   "metadata": {},
   "outputs": [],
   "source": [
    "# get months from given season\n",
    "months = [k for k, v in season_dict.items() if v == 'SP']\n",
    "\n",
    "# dates in correct format\n",
    "start_date = pd.Timestamp(f'{year}-{months[0]}-01')\n",
    "end_date = pd.Timestamp(f'{year}-{months[-1]+1}-01') # end_date is first day of next season\n",
    "\n",
    "# filter only between correct dates\n",
    "df_visu = df_files.loc[(df_files['date_prelevement'] >= start_date) & (df_files['date_prelevement'] <= end_date)] \n",
    "df_visu = df_visu.loc[df_visu['libelle_parametre'] == param].reset_index(drop=True)\n"
   ]
  },
  {
   "cell_type": "code",
   "execution_count": null,
   "metadata": {},
   "outputs": [],
   "source": [
    "# group to calculate median\n",
    "df_visu_grouped = df_visu.groupby(\"code_station\").agg({\n",
    "    \"date_prelevement\" : list,\n",
    "    \"resultat\" : list\n",
    "}).reset_index()\n",
    "df_visu_grouped.head()\n",
    "\n",
    "# calculate median\n",
    "df_visu_grouped.resultat = df_visu_grouped.resultat.apply(lambda x: np.median(np.array(x)) if isinstance(x, list) else x)\n",
    "\n",
    "# add coordinates from metadata file\n",
    "df_visu_grouped = add_coord(type=\"Physico-chemical\", left_df=df_visu_grouped, left_id=\"code_station\")"
   ]
  },
  {
   "cell_type": "code",
   "execution_count": null,
   "metadata": {},
   "outputs": [],
   "source": [
    "# check if min and max make sense\n",
    "df_visu_grouped.resultat.max(), df_visu_grouped.resultat.min()"
   ]
  },
  {
   "cell_type": "code",
   "execution_count": null,
   "metadata": {},
   "outputs": [],
   "source": [
    "# change param name if many words\n",
    "# if param == \"Azote Kendjhal\": name_visu = f\"visu_nitroKendj_{season}_{year}.csv\"\n",
    "\n",
    "# create csv to visualize on Qgis\n",
    "\n",
    "name_visu = f\"visu_{param}_{season}_{year}.csv\"\n",
    "df_visu_grouped.to_csv(name_visu, sep=';', index=False)"
   ]
  }
 ],
 "metadata": {
  "kernelspec": {
   "display_name": "SeineProject",
   "language": "python",
   "name": "python3"
  },
  "language_info": {
   "codemirror_mode": {
    "name": "ipython",
    "version": 3
   },
   "file_extension": ".py",
   "mimetype": "text/x-python",
   "name": "python",
   "nbconvert_exporter": "python",
   "pygments_lexer": "ipython3",
   "version": "3.12.2"
  },
  "orig_nbformat": 4
 },
 "nbformat": 4,
 "nbformat_minor": 2
}
