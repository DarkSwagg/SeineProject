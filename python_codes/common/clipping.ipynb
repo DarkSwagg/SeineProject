{
 "cells": [
  {
   "attachments": {},
   "cell_type": "markdown",
   "metadata": {},
   "source": [
    "# Clipping a csv on the Seine River Basin"
   ]
  },
  {
   "cell_type": "code",
   "execution_count": null,
   "metadata": {},
   "outputs": [],
   "source": [
    "import pandas as pd\n",
    "import matplotlib.pyplot as plt\n",
    "import geopandas as gpd\n",
    "from shapely.geometry import Point"
   ]
  },
  {
   "cell_type": "code",
   "execution_count": null,
   "metadata": {},
   "outputs": [],
   "source": [
    "# Function to clip a csv on the Seine River Basin\n",
    "\n",
    "def clipping(df, coord_x, coord_y, path_basin=None):\n",
    "\n",
    "    if path_basin==None:\n",
    "        polygon_df = gpd.read_file('/Users/mahlia/Desktop/SeineProject/bassin/bassin_outlet/Subcatchement_12.shx')\n",
    "        \n",
    "    else: polygon_df = gpd.read_file(path_basin)\n",
    "    polygon_df = polygon_df.to_crs(epsg=2154)\n",
    "\n",
    "    geometry = [Point(xy) for xy in zip(df[coord_x], df[coord_y])]\n",
    "    crs = {'init': 'epsg:2154'}  # Assuming WGS84 coordinate system\n",
    "    gdf = gpd.GeoDataFrame(df, crs=crs, geometry=geometry)\n",
    "\n",
    "    clipped = gpd.sjoin(gdf, polygon_df, op='within')\n",
    "\n",
    "    fig, ax = plt.subplots()\n",
    "    polygon_df.plot(ax=ax, color='red')\n",
    "    clipped.plot(ax=ax, color='blue', markersize=5)\n",
    "    plt.show()\n",
    "\n",
    "    return clipped"
   ]
  },
  {
   "attachments": {},
   "cell_type": "markdown",
   "metadata": {},
   "source": [
    "# Import needed files"
   ]
  },
  {
   "cell_type": "code",
   "execution_count": null,
   "metadata": {},
   "outputs": [],
   "source": [
    "# importing necessary functions from other files\n",
    "\n",
    "import os\n",
    "import sys\n",
    "\n",
    "# to facilitate the use of notebooks\n",
    "%load_ext autoreload\n",
    "%autoreload 2\n",
    "\n",
    "# Get the current directory of the notebook\n",
    "current_dir = os.getcwd()\n",
    "parent_dir = os.path.abspath(os.path.join(current_dir, os.pardir, os.pardir))"
   ]
  },
  {
   "cell_type": "code",
   "execution_count": null,
   "metadata": {},
   "outputs": [],
   "source": [
    "# get path of file to clip then read it\n",
    "# change needed path\n",
    "\n",
    "file_dir = os.path.join(parent_dir, \"biol_data\", \"stations\", \"metadata_biolstat.xlsx\")\n",
    "print(file_dir)\n",
    "\n",
    "# chose format to read file\n",
    "\n",
    "df = pd.read_csv(file_dir, delimiter=\";\")\n",
    "df = pd.read_excel(file_dir, sheet_name=1)"
   ]
  },
  {
   "cell_type": "code",
   "execution_count": null,
   "metadata": {},
   "outputs": [],
   "source": [
    "# get polygon path then read it\n",
    "\n",
    "polygon_dir = os.path.join(parent_dir, \"Qgis\", \"bassin_outlet\", \"Subcatchement_12.shx\")\n",
    "print(polygon_dir)\n",
    "polygon_df = gpd.read_file(polygon_dir)"
   ]
  },
  {
   "cell_type": "code",
   "execution_count": null,
   "metadata": {},
   "outputs": [],
   "source": [
    "# To get the name of coordinates fields\n",
    "df.keys()"
   ]
  },
  {
   "attachments": {},
   "cell_type": "markdown",
   "metadata": {},
   "source": [
    "# Clipping"
   ]
  },
  {
   "cell_type": "code",
   "execution_count": null,
   "metadata": {},
   "outputs": [],
   "source": [
    "# change names of coordinates fields if needed\n",
    "\n",
    "coord_x = 'coordonnee_x'\n",
    "coord_y = 'coordonnee_y'\n",
    "\n",
    "clipped_df = clipping(df, coord_x = coord_x, coord_y=coord_y, path_basin=None)"
   ]
  },
  {
   "cell_type": "code",
   "execution_count": null,
   "metadata": {},
   "outputs": [],
   "source": [
    "# Checking\n",
    "clipped_df.shape, df.shape"
   ]
  },
  {
   "attachments": {},
   "cell_type": "markdown",
   "metadata": {},
   "source": [
    "# Export files"
   ]
  },
  {
   "cell_type": "code",
   "execution_count": null,
   "metadata": {},
   "outputs": [],
   "source": [
    "# Save to CSV\n",
    "# change name\n",
    "# clippedpy to remember it was clipped using python\n",
    "\n",
    "name_clipped = 'stations_biol'\n",
    "\n",
    "clipped_df.to_csv(f'{name_clipped}.csv', index=False, sep=\";\")"
   ]
  },
  {
   "cell_type": "code",
   "execution_count": null,
   "metadata": {},
   "outputs": [],
   "source": [
    "# Save to json file\n",
    "# to facilitate visulatisation on Qgis\n",
    "\n",
    "# clipped_df.to_file(f\"{name_clipped}+.geojson\", driver=\"GeoJSON\", geometry=\"geometry\")"
   ]
  }
 ],
 "metadata": {
  "kernelspec": {
   "display_name": "SeineProject",
   "language": "python",
   "name": "python3"
  },
  "language_info": {
   "codemirror_mode": {
    "name": "ipython",
    "version": 3
   },
   "file_extension": ".py",
   "mimetype": "text/x-python",
   "name": "python",
   "nbconvert_exporter": "python",
   "pygments_lexer": "ipython3",
   "version": "3.12.2"
  },
  "orig_nbformat": 4
 },
 "nbformat": 4,
 "nbformat_minor": 2
}
