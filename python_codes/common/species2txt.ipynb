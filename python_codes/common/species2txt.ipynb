{
 "cells": [
  {
   "attachments": {},
   "cell_type": "markdown",
   "metadata": {},
   "source": [
    "# Get text file containing names of all different parameters (biol species/ phychem param)"
   ]
  },
  {
   "cell_type": "code",
   "execution_count": null,
   "metadata": {},
   "outputs": [],
   "source": [
    "import pandas as pd\n",
    "import numpy as np\n",
    "import matplotlib.pyplot as plt\n",
    "import os"
   ]
  },
  {
   "attachments": {},
   "cell_type": "markdown",
   "metadata": {},
   "source": [
    "## either phychem or biol"
   ]
  },
  {
   "cell_type": "code",
   "execution_count": null,
   "metadata": {},
   "outputs": [],
   "source": [
    "# Get the current directory of the notebook\n",
    "current_dir = os.getcwd()\n",
    "parent_dir = os.path.abspath(os.path.join(current_dir, os.pardir, os.pardir))\n",
    "# Import phychem data\n",
    "param_file = os.path.join(parent_dir, \"phychem_data\", \"phychem_param_80_19\", \"all_concatenated1980_2019.csv\")\n",
    "param_df = pd.read_csv(param_file, delimiter=\";\")"
   ]
  },
  {
   "attachments": {},
   "cell_type": "markdown",
   "metadata": {},
   "source": [
    "# Text file with all species"
   ]
  },
  {
   "attachments": {},
   "cell_type": "markdown",
   "metadata": {},
   "source": [
    "phychem:\n",
    "name_category = 'libelle_groupe_parametre'\n",
    "name_parameter = 'libelle_parametre'\n",
    "code_parameter = 'code_parametre'\n",
    "code_category = 'code_groupe_parametre'\n",
    "name_parent = name_category\n",
    "code_parent = code_category\n",
    "\n",
    "biol:\n",
    "name_category = 'libelle_support'\n",
    "name_parameter = 'libelle_appel_taxon'\n",
    "code_parameter = 'code_appel_taxon'\n",
    "name_parent = 'libelles_taxons_parents'\n",
    "code_parent = 'codes_taxons_parents'"
   ]
  },
  {
   "cell_type": "code",
   "execution_count": null,
   "metadata": {},
   "outputs": [],
   "source": [
    "# change names according to your file\n",
    "name_category = 'libelle_groupe_parametre'\n",
    "name_parameter = 'libelle_parametre'\n",
    "\n",
    "code_parameter = 'code_parametre'\n",
    "code_category = 'code_groupe_parametre'\n",
    "\n",
    "name_parent = name_category\n",
    "code_parent = code_category"
   ]
  },
  {
   "cell_type": "code",
   "execution_count": null,
   "metadata": {},
   "outputs": [],
   "source": [
    "def get_category_dict(df, name_category, name_parameter, type_data):\n",
    "\n",
    "    # create a dictionary to store categories (Ephemeroptera/Paramètres Azotés) and their corresponding parameters\n",
    "    category_dict = {}\n",
    "\n",
    "    # iterate over each row in the DataFrame\n",
    "    for index, row in df.iterrows():\n",
    "\n",
    "        category = row[name_category]\n",
    "        parameter = row[name_parameter]\n",
    "\n",
    "        # special case for phychem\n",
    "        if type_data==\"phychem\":\n",
    "            category = category.split(\"'\")[1]\n",
    "        else: continue\n",
    "        \n",
    "        # create new category key in dict\n",
    "        if category not in category_dict:\n",
    "            category_dict[category] = set()  # to store unique taxons\n",
    "        \n",
    "        # add name of parameter to corresponding category\n",
    "        category_dict[category].add(parameter)\n",
    "\n",
    "    # sort parameters alphabetically within each category\n",
    "    for name_category in category_dict:\n",
    "        category_dict[name_category] = sorted(category_dict[name_category])\n",
    "\n",
    "    return category_dict"
   ]
  },
  {
   "cell_type": "code",
   "execution_count": null,
   "metadata": {},
   "outputs": [],
   "source": [
    "category_dict = get_category_dict(param_df, name_category=name_category, name_parameter=name_parameter, type_data=\"phychem\")"
   ]
  },
  {
   "cell_type": "code",
   "execution_count": null,
   "metadata": {},
   "outputs": [],
   "source": [
    "def all2txt(dict, name_category, name_txt_file, intro_txt_file):\n",
    "\n",
    "    # write categories and their param to a text file\n",
    "    with open(name_txt_file, 'w') as file:\n",
    "        file.write(intro_txt_file)\n",
    "        file.write(\"\\n\")\n",
    "        for name_category in sorted(dict.keys()):  # Sort categories alphabetically\n",
    "            file.write(f\"{name_category}\\n\")\n",
    "        file.write(\"\\n\")\n",
    "        for name_category in sorted(dict.keys()):  # Sort categories alphabetically\n",
    "            file.write(f\"{name_category}:\\n\")\n",
    "            for parameter in dict[name_category]:\n",
    "                file.write(f\"    {parameter}\\n\")\n",
    "            file.write(\"\\n\")\n",
    "\n",
    "    print(\"File created with success!\")"
   ]
  },
  {
   "cell_type": "code",
   "execution_count": null,
   "metadata": {},
   "outputs": [],
   "source": [
    "# to change whether taxons/species\n",
    "\n",
    "name_txt_file = 'param_nitro_80_99.txt'\n",
    "intro_txt_file = \"Those are the different physicochemical parameters present in the Seine. The categories are the following:\\n\""
   ]
  },
  {
   "cell_type": "code",
   "execution_count": null,
   "metadata": {},
   "outputs": [],
   "source": [
    "all2txt(category_dict, name_category=name_category, name_txt_file=name_txt_file, intro_txt_file=intro_txt_file)"
   ]
  },
  {
   "attachments": {},
   "cell_type": "markdown",
   "metadata": {},
   "source": [
    "# Text file with only species of interest"
   ]
  },
  {
   "attachments": {},
   "cell_type": "markdown",
   "metadata": {},
   "source": [
    "For biol:\n",
    "interest_species = ['Ephemeroptera', 'Plecoptera', 'Trichoptera']\n",
    "interest_codes = [348, 1, 181]"
   ]
  },
  {
   "cell_type": "code",
   "execution_count": null,
   "metadata": {},
   "outputs": [],
   "source": [
    "# Define the species of interest\n",
    "interest_species = ['Paramètres Azotés', 'Paramètres Phosphorés'] \n",
    "interest_codes = [47, 48]"
   ]
  },
  {
   "cell_type": "code",
   "execution_count": null,
   "metadata": {},
   "outputs": [],
   "source": [
    "def get_dict_interest(df, interest_species, interest_codes, name_category, name_parameter, code_category, code_parameter):\n",
    "\n",
    "    interest_dict = {species: set() for species in interest_species}\n",
    "\n",
    "    # iterate over each row\n",
    "    for index, row in df.iterrows():\n",
    "\n",
    "        param = row[name_parameter]\n",
    "        code_param = row[code_parameter]\n",
    "        name_categ = row[name_category]\n",
    "        code_categ = row[code_category]\n",
    "        \n",
    "        # convert to int if it's not already\n",
    "        if not isinstance(code_param, int):\n",
    "            code_param = int(code_param)\n",
    "        if not isinstance(code_categ, int):\n",
    "            code_categ = int(code_categ)\n",
    "\n",
    "        # check if any of the EPT species is present in the parents list\n",
    "        for interest_code in interest_codes:\n",
    "            if interest_code in code_categ:\n",
    "                interest_dict[interest_code].add((param, code_param))\n",
    "\n",
    "    return interest_dict\n"
   ]
  },
  {
   "cell_type": "code",
   "execution_count": null,
   "metadata": {},
   "outputs": [],
   "source": [
    "interest_dict = get_dict_interest(param_df, interest_species, interest_codes, name_parent, name_parameter, code_parent, code_parameter)"
   ]
  },
  {
   "cell_type": "code",
   "execution_count": null,
   "metadata": {},
   "outputs": [],
   "source": [
    "def get_codes_list(interest_dict, interest_species):\n",
    "    \n",
    "    # list to store the lists of EPT codes for each species\n",
    "    EPT_codes_sorted = [[] for _ in range(len(interest_species))]\n",
    "\n",
    "    # iterate over the items in the dictionary\n",
    "    for index, (key, values) in enumerate(interest_dict.items()):\n",
    "        # extract the integer part of each tuple and append it to the corresponding list\n",
    "        for value in values:\n",
    "            EPT_codes_sorted[index].append(value[1])\n",
    "\n",
    "    return EPT_codes_sorted"
   ]
  },
  {
   "cell_type": "code",
   "execution_count": null,
   "metadata": {},
   "outputs": [],
   "source": [
    "# only for biol\n",
    "EPT_codes_sorted = get_codes_list(interest_dict, interest_species)"
   ]
  },
  {
   "cell_type": "code",
   "execution_count": null,
   "metadata": {},
   "outputs": [],
   "source": [
    "def interest2txt(interest_dict, name_txt_file, intro_txt_file, interest_species):\n",
    "\n",
    "    # Write categories and subcategories to a text file\n",
    "    with open(name_txt_file, 'w') as file:\n",
    "        file.write(intro_txt_file)\n",
    "        file.write(\"\\n\")\n",
    "\n",
    "        for index, interest_specie in enumerate(interest_species):\n",
    "            # file.write(f\"{EPT_specie}: {interest_codes[index]}\\nAll codes in {EPT_specie}:\\n{EPT_codes_sorted[index]}\\n\\n\")\n",
    "            for code_n_taxon in sorted(interest_dict[interest_specie]):\n",
    "                file.write(f\"    {code_n_taxon}\\n\")\n",
    "            \n",
    "            file.write(\"\\n\")"
   ]
  },
  {
   "cell_type": "code",
   "execution_count": null,
   "metadata": {},
   "outputs": [],
   "source": [
    "# to change whether taxons/parameters\n",
    "name_txt_file = 'list_taxons_EPT.txt'\n",
    "intro_txt_file = \"Code taxons related to EPT in the Seine, from Naiades dataset:\\n\""
   ]
  },
  {
   "cell_type": "code",
   "execution_count": null,
   "metadata": {},
   "outputs": [],
   "source": [
    "interest2txt(interest_dict, name_txt_file, intro_txt_file, interest_species)"
   ]
  }
 ],
 "metadata": {
  "kernelspec": {
   "display_name": "SeineProject",
   "language": "python",
   "name": "python3"
  },
  "language_info": {
   "codemirror_mode": {
    "name": "ipython",
    "version": 3
   },
   "file_extension": ".py",
   "mimetype": "text/x-python",
   "name": "python",
   "nbconvert_exporter": "python",
   "pygments_lexer": "ipython3",
   "version": "3.12.2"
  },
  "orig_nbformat": 4
 },
 "nbformat": 4,
 "nbformat_minor": 2
}
