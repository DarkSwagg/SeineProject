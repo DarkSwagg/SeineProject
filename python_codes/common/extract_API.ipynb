{
 "cells": [
  {
   "attachments": {},
   "cell_type": "markdown",
   "metadata": {},
   "source": [
    "# Extract data from Naïades using API"
   ]
  },
  {
   "attachments": {},
   "cell_type": "markdown",
   "metadata": {},
   "source": [
    "website to create path and give correct arguments: https://hubeau.eaufrance.fr/page/api-qualite-cours-deau"
   ]
  },
  {
   "cell_type": "code",
   "execution_count": null,
   "metadata": {},
   "outputs": [],
   "source": [
    "import requests\n",
    "import pandas as pd\n",
    "import math\n",
    "from tqdm.auto import tqdm"
   ]
  },
  {
   "cell_type": "code",
   "execution_count": null,
   "metadata": {},
   "outputs": [],
   "source": [
    "# importing necessary functions from other files\n",
    "\n",
    "import os\n",
    "import sys\n",
    "\n",
    "# to facilitate the use of notebooks\n",
    "%load_ext autoreload\n",
    "%autoreload 2\n",
    "\n",
    "# Get the current directory of the notebook\n",
    "current_dir = os.getcwd()\n",
    "print(current_dir)\n",
    "\n",
    "# importing necessary functions\n",
    "from extract_functions import export_data, export_data_station\n"
   ]
  },
  {
   "attachments": {},
   "cell_type": "markdown",
   "metadata": {},
   "source": [
    "## Extract operations"
   ]
  },
  {
   "attachments": {},
   "cell_type": "markdown",
   "metadata": {},
   "source": [
    "spe_endpoint = \"v1/hydrobio\"\n",
    "spe_operation = \"stations_hydrobio\""
   ]
  },
  {
   "cell_type": "code",
   "execution_count": null,
   "metadata": {},
   "outputs": [],
   "source": [
    "# to modify \n",
    "spe_endpoint = \"v2/qualite_rivieres\"\n",
    "spe_operation = \"analyse_pc\""
   ]
  },
  {
   "cell_type": "code",
   "execution_count": null,
   "metadata": {},
   "outputs": [],
   "source": [
    "# chose years\n",
    "years = [i for i in range(1980, 1981)]\n",
    "df_list = []\n",
    "\n",
    "for year  in tqdm(years):\n",
    "    print(f\"YEAR: {year}\")\n",
    "    df = export_data(year, year+1, start_month=1, end_month=1, start_day=1, end_day=1, endpoint=spe_endpoint, operation=spe_operation)\n",
    "    print(f\"Exported {df.shape[0]} data\\n\")\n",
    "    df_list.append(df)"
   ]
  },
  {
   "attachments": {},
   "cell_type": "markdown",
   "metadata": {},
   "source": [
    "## Extract stations"
   ]
  },
  {
   "cell_type": "code",
   "execution_count": null,
   "metadata": {},
   "outputs": [],
   "source": [
    "spe_endpoint = \"v1/hydrobio\"\n",
    "spe_operation = \"stations_hydrobio\""
   ]
  },
  {
   "cell_type": "code",
   "execution_count": null,
   "metadata": {},
   "outputs": [],
   "source": [
    "# chose years\n",
    "df_list = []\n",
    "\n",
    "df = export_data_station(endpoint=spe_endpoint, operation=spe_operation)\n",
    "df_list.append(df)"
   ]
  },
  {
   "attachments": {},
   "cell_type": "markdown",
   "metadata": {},
   "source": [
    "## Finish exportation"
   ]
  },
  {
   "cell_type": "code",
   "execution_count": null,
   "metadata": {},
   "outputs": [],
   "source": [
    "df_final = pd.concat(df_list, axis=0, ignore_index=True)\n",
    "print(f\"Final df with {df_final.shape[0]} data\")"
   ]
  },
  {
   "cell_type": "code",
   "execution_count": null,
   "metadata": {},
   "outputs": [],
   "source": [
    "# Export data in csv file\n",
    "# change file name\n",
    "csv_name = \"2clip_tax_biol_13_19.csv\"\n",
    "\n",
    "df_final.to_csv(\n",
    "    os.path.join(os.getcwd(), csv_name),\n",
    "    sep=';',\n",
    "    header=True,\n",
    "    index=False,\n",
    "    mode='w',\n",
    "    encoding='utf8',\n",
    "    chunksize=100000)"
   ]
  }
 ],
 "metadata": {
  "kernelspec": {
   "display_name": "SeineProject",
   "language": "python",
   "name": "python3"
  },
  "language_info": {
   "codemirror_mode": {
    "name": "ipython",
    "version": 3
   },
   "file_extension": ".py",
   "mimetype": "text/x-python",
   "name": "python",
   "nbconvert_exporter": "python",
   "pygments_lexer": "ipython3",
   "version": "3.12.2"
  },
  "orig_nbformat": 4
 },
 "nbformat": 4,
 "nbformat_minor": 2
}
