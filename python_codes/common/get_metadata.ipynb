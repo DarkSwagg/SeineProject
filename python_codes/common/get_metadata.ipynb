{
 "cells": [
  {
   "attachments": {},
   "cell_type": "markdown",
   "metadata": {},
   "source": [
    "# Create a file containing metadata about stations"
   ]
  },
  {
   "cell_type": "code",
   "execution_count": null,
   "metadata": {},
   "outputs": [],
   "source": [
    "import pandas as pd\n",
    "import numpy as np\n",
    "import matplotlib.pyplot as plt\n",
    "import os"
   ]
  },
  {
   "attachments": {},
   "cell_type": "markdown",
   "metadata": {},
   "source": [
    "## Extract biol stations from taxons file"
   ]
  },
  {
   "cell_type": "code",
   "execution_count": null,
   "metadata": {},
   "outputs": [],
   "source": [
    "# Get the current directory of the notebook\n",
    "current_dir = os.getcwd()\n",
    "parent_dir = os.path.abspath(os.path.join(current_dir, os.pardir, os.pardir))\n",
    "# Import biological data\n",
    "tax_file = os.path.join(parent_dir, \"biol_data\", \"taxons\", \"all_taxons1980_2019.csv\")\n",
    "tax_df = pd.read_csv(tax_file, delimiter=\";\")"
   ]
  },
  {
   "cell_type": "code",
   "execution_count": null,
   "metadata": {},
   "outputs": [],
   "source": [
    "# ensure that text is good\n",
    "tax_df[\"code_station_hydrobio\"] = tax_df[\"code_station_hydrobio\"].astype(str)\n",
    "tax_df[\"code_station_hydrobio\"] = tax_df[\"code_station_hydrobio\"].str.strip()\n",
    "sta_df = tax_df.drop_duplicates([\"code_station_hydrobio\"]).reset_index(drop=True) # keeping unique station_ID\n",
    "sta_df = sta_df[[\"code_station_hydrobio\", \"coordonnee_x\", \"coordonnee_y\"]]\n",
    "print(sta_df[\"code_station_hydrobio\"].shape[0] )"
   ]
  },
  {
   "cell_type": "code",
   "execution_count": null,
   "metadata": {},
   "outputs": [],
   "source": [
    "# export stations to csv\n",
    "sta_df.to_csv(\"2join_sta.csv\", sep=\";\", index=False)"
   ]
  },
  {
   "attachments": {},
   "cell_type": "markdown",
   "metadata": {},
   "source": [
    "The resulting file needs to be joined on qgis then the joined file should be used for the rest"
   ]
  },
  {
   "attachments": {},
   "cell_type": "markdown",
   "metadata": {},
   "source": [
    "## joined file"
   ]
  },
  {
   "cell_type": "code",
   "execution_count": null,
   "metadata": {},
   "outputs": [],
   "source": [
    "# Get the current directory of the notebook\n",
    "current_dir = os.getcwd()\n",
    "parent_dir = os.path.abspath(os.path.join(current_dir, os.pardir, os.pardir))\n",
    "# Import biological data\n",
    "joined_file = os.path.join(parent_dir, \"biol_data\", \"archives\", \"joined_sta.csv\")\n",
    "df = pd.read_csv(joined_file, delimiter=\";\")"
   ]
  },
  {
   "cell_type": "code",
   "execution_count": null,
   "metadata": {},
   "outputs": [],
   "source": [
    "df.keys()"
   ]
  },
  {
   "attachments": {},
   "cell_type": "markdown",
   "metadata": {},
   "source": [
    "for phychem:\n",
    "df = df[[\"code_station\", \"coordonnee_x\", \"coordonnee_y\", \"joined_ORD_STRA\", \"joined_HYBAS_L12\", \"joined_DIST_DN_KM\"]]\n"
   ]
  },
  {
   "cell_type": "code",
   "execution_count": null,
   "metadata": {},
   "outputs": [],
   "source": [
    "# get the interesting cols and rename them\n",
    "\n",
    "df = df[[\"code_station_hydrobio\", \"coordonnee_x\", \"coordonnee_y\", \"joined_ORD_STRA\", \"joined_HYBAS_L12\", \"joined_DIST_DN_KM\"]]\n",
    "df = df.fillna(-1) # if -1 then station was outside range 500m\n",
    "df.rename(columns={'code_station_hydrobio': 'station_ID', 'joined_ORD_STRA': 'ORD_STRA', 'joined_HYBAS_L12': 'HYBAS_ID', 'joined_DIST_DN_KM': 'DIST_DN_KM'}, inplace=True)\n",
    "df['station_ID'] = df['station_ID'].apply(lambda x: x.lstrip('0') if x.startswith('0') else x)"
   ]
  },
  {
   "cell_type": "code",
   "execution_count": null,
   "metadata": {},
   "outputs": [],
   "source": [
    "# Create the README content\n",
    "header_txt = \"StationIDs and their corresponding geographical information: coordonates, Strahler Order, Hydroshed L12, distance from outlet.\"\n",
    "\n",
    "readme_content = {\n",
    "    'Header': header_txt,\n",
    "    'station_ID': \"Station code using french referentiel\",\n",
    "    'coordonnee_x': \"EPSG:2154 ; RGF93 / Lambert-93\",\n",
    "    'coordonnee_y': \"EPSG:2154 ; RGF93 / Lambert-93\",\n",
    "    'ORD_STRA': \"Strahler Order. Stations were joined by nearest river using P=500m. If value=-1 then station is outside perimeter.\",\n",
    "    'HYBAS_ID': \"Hydroshed Level 12. If value=-1 then station is outside perimeter.\",\n",
    "    'DIST_DN_KM': \"Distance from station to basin outlet (km). If value=-1 then station is outside perimeter.\",\n",
    "    \"Nbr Tot. Stations\":f\"{df.shape[0]}\",\n",
    "    \"Nbr Stations outside P=500m\":f\"{df['ORD_STRA'].value_counts().loc[-1.0]}\"\n",
    "}\n",
    "readme_df = pd.DataFrame(list(readme_content.items()), columns=['Column', 'Explanation'])"
   ]
  },
  {
   "cell_type": "code",
   "execution_count": null,
   "metadata": {},
   "outputs": [],
   "source": [
    "# create an excel with 2 sheets\n",
    "\n",
    "with pd.ExcelWriter('metadata_biolstat.xlsx') as writer:\n",
    "    readme_df.to_excel(writer, sheet_name='README', index=False)\n",
    "    df.to_excel(writer, sheet_name='geodata', index=False)"
   ]
  }
 ],
 "metadata": {
  "kernelspec": {
   "display_name": "SeineProject",
   "language": "python",
   "name": "python3"
  },
  "language_info": {
   "codemirror_mode": {
    "name": "ipython",
    "version": 3
   },
   "file_extension": ".py",
   "mimetype": "text/x-python",
   "name": "python",
   "nbconvert_exporter": "python",
   "pygments_lexer": "ipython3",
   "version": "3.12.2"
  },
  "orig_nbformat": 4
 },
 "nbformat": 4,
 "nbformat_minor": 2
}
