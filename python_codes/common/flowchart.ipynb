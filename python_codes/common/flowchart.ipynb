{
 "cells": [
  {
   "attachments": {},
   "cell_type": "markdown",
   "metadata": {},
   "source": [
    "# Create a flowchart to show the filters applied to stations"
   ]
  },
  {
   "attachments": {},
   "cell_type": "markdown",
   "metadata": {},
   "source": [
    "## Import libraries"
   ]
  },
  {
   "cell_type": "code",
   "execution_count": null,
   "metadata": {},
   "outputs": [],
   "source": [
    "import pandas as pd\n",
    "import matplotlib.pyplot as plt\n",
    "import numpy as np"
   ]
  },
  {
   "cell_type": "code",
   "execution_count": null,
   "metadata": {},
   "outputs": [],
   "source": [
    "# importing necessary functions from other files\n",
    "\n",
    "import os\n",
    "import sys\n",
    "\n",
    "# to facilitate the use of notebooks\n",
    "%load_ext autoreload\n",
    "%autoreload 2\n",
    "\n",
    "# Get the current directory of the notebook\n",
    "current_dir = os.getcwd()\n",
    "\n",
    "# importing necessary functions\n",
    "from statistics_functions import process_df\n",
    "\n",
    "parent_dir = os.path.abspath(os.path.join(current_dir, os.pardir))\n",
    "functions_dir = os.path.join(parent_dir, \"only_biol\")\n",
    "print(functions_dir)\n",
    "\n",
    "# Add this directory to sys.path\n",
    "if functions_dir not in sys.path:\n",
    "    sys.path.append(functions_dir)\n",
    "\n",
    "from EPT_sta import only_taxons\n"
   ]
  },
  {
   "attachments": {},
   "cell_type": "markdown",
   "metadata": {},
   "source": [
    "## Define functions"
   ]
  },
  {
   "cell_type": "code",
   "execution_count": null,
   "metadata": {},
   "outputs": [],
   "source": [
    "def joined_filter(df):\n",
    "    df = df[df[\"ORD_STRA\"] != -1].reset_index(drop=True)\n",
    "    return df"
   ]
  },
  {
   "cell_type": "code",
   "execution_count": null,
   "metadata": {},
   "outputs": [],
   "source": [
    "def meas2ope(meas_df, spe_type, field_ID, field_date, coord_x, coord_y):\n",
    "\n",
    "    meas_df = meas_df.drop_duplicates(subset=[field_ID, field_date]) # creating ope instead of measurements\n",
    "\n",
    "    # keep only interesting col\n",
    "    meas_df = meas_df[[field_ID, field_date, coord_x, coord_y]]\n",
    "    # Convert \"code_station_hydrobio\" column to string to sort\n",
    "    meas_df[field_ID] = meas_df[field_ID].astype(str)\n",
    "    meas_df.sort_values(by=field_ID, inplace=True)\n",
    "    # remove 0 if starts with 0\n",
    "    meas_df[field_ID] = meas_df[field_ID].apply(lambda x: x.lstrip('0') if x.startswith('0') else x)\n",
    "    \n",
    "    meas_df.reset_index(drop=True, inplace=True)\n",
    "\n",
    "    return meas_df\n"
   ]
  },
  {
   "cell_type": "code",
   "execution_count": null,
   "metadata": {},
   "outputs": [],
   "source": [
    "def most_freq_filter(df, field_ID, field_date, coord_x, coord_y):\n",
    "\n",
    "    grouped_df = process_df(df, field_id_station=field_ID, field_date=field_date, coord_x=coord_x, coord_y=coord_y)\n",
    "    meas_3 = grouped_df.loc[grouped_df['MonthIntStd'].notna()]\n",
    "    meas_3 = meas_3[field_ID].unique().shape[0]\n",
    "    \n",
    "    most_freq_df = grouped_df.loc[(grouped_df['MonthIntMean'] <= 24) & grouped_df['MonthIntStd'].notna()].reset_index(drop=True)\n",
    "    interv_24 = most_freq_df[field_ID].unique().shape[0]\n",
    "\n",
    "    return meas_3, interv_24, most_freq_df"
   ]
  },
  {
   "cell_type": "code",
   "execution_count": null,
   "metadata": {},
   "outputs": [],
   "source": [
    "def add_coord(left_df, right_df, left_id, right_id):\n",
    "    \"\"\" add coord columns \"\"\"\n",
    "\n",
    "    # converting both to str so its the same type\n",
    "    left_df[left_id] = left_df[left_id].astype(str)\n",
    "    right_df[right_id] = right_df[right_id].astype(str)\n",
    "    # merging\n",
    "    left_df = pd.merge(left_df, right_df[right_df[right_id].isin(left_df[left_id])][[right_id, 'coordonnee_x', 'coordonnee_y']], left_on=left_id, right_on = right_id, how='left')\n",
    "    # rearranging col\n",
    "    left_df = left_df.drop(right_id, axis=1)\n",
    "\n",
    "    return left_df"
   ]
  },
  {
   "cell_type": "code",
   "execution_count": null,
   "metadata": {},
   "outputs": [],
   "source": [
    "def isin(df1, field1, df2, field2):\n",
    "\n",
    "    # converting both to str so its the same type\n",
    "    df1[field1] = df1[field1].astype(str)\n",
    "    df2[field2] = df2[field2].astype(str)\n",
    "\n",
    "    df1 = df1[df1[field1].isin(df2[field2])]\n",
    "\n",
    "    return df1"
   ]
  },
  {
   "cell_type": "code",
   "execution_count": null,
   "metadata": {},
   "outputs": [],
   "source": [
    "def apply_filters(sta_df, meas_df, spe_type, field_ID, field_date, coord_x, coord_y):\n",
    "\n",
    "    steps = [\n",
    "        {'nb_sta': str(sta_df[\"station_ID\"].unique().shape[0]), 'step_name': 'Initial stations'}\n",
    "    ]\n",
    "    \n",
    "    # joined filter\n",
    "    sta_df = joined_filter(df = sta_df)\n",
    "    steps.append({'nb_sta': str(sta_df[\"station_ID\"].unique().shape[0]), 'step_name': 'Joined\\np = 500m'})\n",
    "\n",
    "    # apply prev. filter to meas as well. For phychem already interest\n",
    "    meas_df = isin(meas_df, field_ID, sta_df, \"station_ID\")\n",
    "    \n",
    "    if spe_type==\"Physico-chemical\":\n",
    "        # say now the number of stations related to 8 params\n",
    "        # keep only good cols\n",
    "        meas_df = meas_df[['code_station','date_prelevement','code_parametre', 'libelle_parametre']]\n",
    "        steps.append({'nb_sta': str(meas_df[field_ID].unique().shape[0]), 'step_name': '8 param. meas.'})  \n",
    "\n",
    "    else:\n",
    "        # for biol EPT filter to get only interest taxons\n",
    "        meas_df = only_taxons(tax_df=meas_df, meta_df=sta_df)\n",
    "        steps.append({'nb_sta': str(meas_df[field_ID].unique().shape[0]), 'step_name': 'EPT meas.'})\n",
    "\n",
    "    # most frequent filter, splitted in two parts\n",
    "    # create ope df\n",
    "    ope_df = meas2ope(meas_df, spe_type, field_ID, field_date, coord_x, coord_y)\n",
    "\n",
    "    # most_freq_df is grouped\n",
    "    meas_3, interv_24, most_freq_df = most_freq_filter(df=ope_df, field_ID=field_ID, field_date=field_date, coord_x=coord_x, coord_y=coord_y)\n",
    "    steps.append({'nb_sta': str(meas_3), 'step_name': '>= 3 meas.'})\n",
    "    steps.append({'nb_sta': str(interv_24), 'step_name': '<= 24 months'})\n",
    "\n",
    "    final_meas = isin(meas_df, field_ID, most_freq_df, field_ID)\n",
    "\n",
    "    return steps, final_meas # return final df of the filter chain: most freq of interesting species\n"
   ]
  },
  {
   "cell_type": "code",
   "execution_count": null,
   "metadata": {},
   "outputs": [],
   "source": [
    "def draw_scheme(spe_type, steps):\n",
    "    fig, ax = plt.subplots(figsize=(14, 1.3))  # Increased the width of the figure\n",
    "    step_width = 4\n",
    "    ax.set_xlim(-step_width/2, len(steps) * step_width + step_width/2)  # Adjusted x-axis limits\n",
    "    ax.set_ylim(0, 4)\n",
    "\n",
    "    plt.title(f\"\\n{spe_type} stations filtered\\n\\n\", fontsize=16, fontname=\"Georgia\")\n",
    "\n",
    "\n",
    "    for i, step in enumerate(steps):\n",
    "        # Annotating the step with the provided name\n",
    "        ax.annotate(step['step_name'], (i * 4 + 1.5, 3.5), textcoords=\"offset points\", xytext=(0,1), ha='center', fontsize=12, fontname=\"Georgia\")\n",
    "        # Drawing the text for the number of stations\n",
    "        ax.text(i * 4 + 1.5, 1.4, step['nb_sta'], ha='center', fontsize=12, fontname=\"Georgia\",\n",
    "                bbox=dict(facecolor='lavender', edgecolor='lavender'))\n",
    "        # Drawing the arrow to the next step (only for the names)\n",
    "        if i < len(steps) - 1:\n",
    "            ax.arrow(i * 4 + 3, 3.8, 0.75, 0, head_width=0.1, head_length=0.1, fc='royalblue', ec='royalblue')\n",
    "\n",
    "    ax.axis('off')\n",
    "    plt.show()\n"
   ]
  },
  {
   "attachments": {},
   "cell_type": "markdown",
   "metadata": {},
   "source": [
    "## Import needed files"
   ]
  },
  {
   "cell_type": "code",
   "execution_count": null,
   "metadata": {},
   "outputs": [],
   "source": [
    "# Get the current directory of the notebook\n",
    "current_dir = os.getcwd()\n",
    "parent_dir = os.path.abspath(os.path.join(current_dir, os.pardir, os.pardir))"
   ]
  },
  {
   "cell_type": "code",
   "execution_count": null,
   "metadata": {},
   "outputs": [],
   "source": [
    "# Import biological data\n",
    "biol_file = os.path.join(parent_dir, \"biol_data\", \"stations\", \"metadata_biolstat.xlsx\")\n",
    "biol_df = pd.read_excel(biol_file, sheet_name=1)\n",
    "\n",
    "biol_meas_file = os.path.join(parent_dir, \"biol_data\", \"taxons\", \"all_taxons1980_2019.csv\")\n",
    "biol_meas_df = pd.read_csv(biol_meas_file, delimiter=\";\")"
   ]
  },
  {
   "cell_type": "code",
   "execution_count": null,
   "metadata": {},
   "outputs": [],
   "source": [
    "# Import phychem data\n",
    "phychem_file = os.path.join(parent_dir, \"phychem_data\", \"stations\", \"metadata_phychemstat.xlsx\")\n",
    "phychem_df = pd.read_excel(phychem_file, sheet_name=1)\n",
    "\n",
    "phychem_meas_file = os.path.join(parent_dir, \"phychem_data\", \"phychem_param_80_19\", \"all_concatenated1980_2019.csv\")\n",
    "phychem_meas_df = pd.read_csv(phychem_meas_file, delimiter=\";\")"
   ]
  },
  {
   "attachments": {},
   "cell_type": "markdown",
   "metadata": {},
   "source": [
    "## Display the chart"
   ]
  },
  {
   "cell_type": "code",
   "execution_count": null,
   "metadata": {},
   "outputs": [],
   "source": [
    "spe_types = [\"Biological\", \"Physico-chemical\"]\n",
    "finals_df = []\n",
    "\n",
    "for spe_type in spe_types:\n",
    "\n",
    "    field_names= {\n",
    "    \"field_ID\" : \"\",\n",
    "    \"field_date\" : \"date_prelevement\",\n",
    "    \"coord_x\" : \"coordonnee_x\",\n",
    "    \"coord_y\" : \"coordonnee_y\"\n",
    "    }\n",
    "\n",
    "    if spe_type==\"Biological\":\n",
    "\n",
    "        sta_df = biol_df\n",
    "        meas_df = biol_meas_df\n",
    "\n",
    "        field_names[\"field_ID\"] = \"code_station_hydrobio\"\n",
    "\n",
    "    else:\n",
    "\n",
    "        sta_df = phychem_df\n",
    "        meas_df = phychem_meas_df\n",
    "\n",
    "        meas_df = add_coord(left_df=meas_df, right_df=sta_df, left_id=\"code_station\", right_id=\"station_ID\")\n",
    "\n",
    "        field_names[\"field_ID\"] = \"code_station\"\n",
    "\n",
    "    # final_df is most frequent of interesting species in both cases\n",
    "    steps, final_df = apply_filters(sta_df=sta_df, meas_df=meas_df, spe_type=spe_type, field_ID=field_names[\"field_ID\"], field_date=field_names[\"field_date\"], coord_x=field_names[\"coord_x\"], coord_y=field_names[\"coord_y\"])\n",
    "    # store final df to compare for bio and phychem\n",
    "    finals_df.append(final_df)\n",
    "    # draw flowchart\n",
    "    draw_scheme(spe_type, steps=steps)"
   ]
  },
  {
   "attachments": {},
   "cell_type": "markdown",
   "metadata": {},
   "source": [
    "biol = finals_df[0]\n",
    "phychem = finals_df[1][['code_station','date_prelevement','code_parametre', 'libelle_parametre', 'resultat']]\n",
    "\n",
    "common stations:\n",
    "biol2phychem = isin(biol, \"code_station_hydrobio\", phychem, \"code_station\")\n",
    "biol2phychem[\"code_station_hydrobio\"].unique().shape[0]"
   ]
  },
  {
   "attachments": {},
   "cell_type": "markdown",
   "metadata": {},
   "source": [
    "## Keep end of chain"
   ]
  },
  {
   "cell_type": "code",
   "execution_count": null,
   "metadata": {},
   "outputs": [],
   "source": [
    "# keep the list of stations considered most frequent\n",
    "MF_phychem = finals_df[1][['code_station','date_prelevement','code_parametre', 'libelle_parametre', 'resultat']]\n",
    "MF_phychem_sta = MF_phychem[\"code_station\"].unique().tolist()\n",
    "\n",
    "MF_biol = finals_df[0]\n",
    "MF_biol_sta = MF_biol[\"code_station_hydrobio\"].unique().tolist()"
   ]
  },
  {
   "cell_type": "code",
   "execution_count": null,
   "metadata": {},
   "outputs": [],
   "source": [
    "# export in text file\n",
    "file_name = \"mostfreq_sta.txt\"\n",
    "\n",
    "# Saving the list to the file\n",
    "with open(file_name, 'w') as file:\n",
    "    for item in MF_biol_sta:\n",
    "        file.write(f\"{item}\\n\")"
   ]
  },
  {
   "cell_type": "code",
   "execution_count": null,
   "metadata": {},
   "outputs": [],
   "source": [
    "# export in csv file\n",
    "MF_biol.to_csv(\"taxons_EPT.csv\", sep=\";\", index=False)"
   ]
  }
 ],
 "metadata": {
  "kernelspec": {
   "display_name": "SeineProject",
   "language": "python",
   "name": "python3"
  },
  "language_info": {
   "codemirror_mode": {
    "name": "ipython",
    "version": 3
   },
   "file_extension": ".py",
   "mimetype": "text/x-python",
   "name": "python",
   "nbconvert_exporter": "python",
   "pygments_lexer": "ipython3",
   "version": "3.12.2"
  },
  "orig_nbformat": 4
 },
 "nbformat": 4,
 "nbformat_minor": 2
}
